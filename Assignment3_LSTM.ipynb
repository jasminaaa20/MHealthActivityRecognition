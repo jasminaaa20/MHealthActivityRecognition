{
  "nbformat": 4,
  "nbformat_minor": 0,
  "metadata": {
    "colab": {
      "provenance": [],
      "authorship_tag": "ABX9TyOUc6Dh/b8MEUfYZZyck3Aa",
      "include_colab_link": true
    },
    "kernelspec": {
      "name": "python3",
      "display_name": "Python 3"
    },
    "language_info": {
      "name": "python"
    }
  },
  "cells": [
    {
      "cell_type": "markdown",
      "metadata": {
        "id": "view-in-github",
        "colab_type": "text"
      },
      "source": [
        "<a href=\"https://colab.research.google.com/github/jasminaaa20/MHealthActivityRecognition/blob/main/Assignment3_LSTM.ipynb\" target=\"_parent\"><img src=\"https://colab.research.google.com/assets/colab-badge.svg\" alt=\"Open In Colab\"/></a>"
      ]
    },
    {
      "cell_type": "markdown",
      "source": [
        "### Mount Drive"
      ],
      "metadata": {
        "id": "9waDhhUZSoP3"
      }
    },
    {
      "cell_type": "code",
      "source": [
        "from google.colab import files, drive\n",
        "drive.mount('/content/drive/')"
      ],
      "metadata": {
        "colab": {
          "base_uri": "https://localhost:8080/"
        },
        "id": "bqQZ5_l6P4H5",
        "outputId": "c9ee777b-bb78-4f34-8737-6fa0309de0ee"
      },
      "execution_count": null,
      "outputs": [
        {
          "output_type": "stream",
          "name": "stdout",
          "text": [
            "Mounted at /content/drive/\n"
          ]
        }
      ]
    },
    {
      "cell_type": "markdown",
      "source": [
        "### Create the combined dataframe using the dataset"
      ],
      "metadata": {
        "id": "RKyKpTv0MZ90"
      }
    },
    {
      "cell_type": "code",
      "source": [
        "import pandas as pd"
      ],
      "metadata": {
        "id": "HDyTF9woN0tk"
      },
      "execution_count": null,
      "outputs": []
    },
    {
      "cell_type": "code",
      "source": [
        "comdf = pd.DataFrame()"
      ],
      "metadata": {
        "id": "z_BMrcEoQNTB"
      },
      "execution_count": null,
      "outputs": []
    },
    {
      "cell_type": "code",
      "source": [
        "# Loop through and add all 10 subjects' sensor data to dataframe\n",
        "for i in range(1, 11):\n",
        "    df = pd.read_csv(f'/content/drive/MyDrive/datasets/MHEALTHDATASET/mHealth_subject{i}.log', header=None, sep='\\t')\n",
        "    # Note: Excluding the ECG data collected with the chest sensor\n",
        "    df = df.rename(columns= {\n",
        "        0: 'acx',\n",
        "        1: 'acy',\n",
        "        2: 'acz',\n",
        "        3: 'ecsig1',\n",
        "        4: 'ecsig2',\n",
        "        5: 'alx',\n",
        "        6: 'aly',\n",
        "        7: 'alz',\n",
        "        8: 'glx',\n",
        "        9: 'gly',\n",
        "        10: 'glz',\n",
        "        11: 'mlx',\n",
        "        12: 'mly',\n",
        "        13: 'mlz',\n",
        "        14: 'arx',\n",
        "        15: 'ary',\n",
        "        16: 'arz',\n",
        "        17: 'grx',\n",
        "        18: 'gry',\n",
        "        19: 'grz',\n",
        "        20: 'mrx',\n",
        "        21: 'mry',\n",
        "        22: 'mrz',\n",
        "        23: 'activity'\n",
        "    })\n",
        "    # introduce new column to differentiate between the subjects for creating the train-test split\n",
        "    df['subject'] = f'subject{i}'\n",
        "    comdf = pd.concat([comdf, df])"
      ],
      "metadata": {
        "id": "rIzzQoLZQSt4"
      },
      "execution_count": null,
      "outputs": []
    },
    {
      "cell_type": "code",
      "source": [
        "comdf.shape"
      ],
      "metadata": {
        "colab": {
          "base_uri": "https://localhost:8080/"
        },
        "id": "HW3CDlxdZwXp",
        "outputId": "40db3ee6-8c65-4bf0-c9b0-0ab156524dce"
      },
      "execution_count": null,
      "outputs": [
        {
          "output_type": "execute_result",
          "data": {
            "text/plain": [
              "(1215745, 25)"
            ]
          },
          "metadata": {},
          "execution_count": 10
        }
      ]
    },
    {
      "cell_type": "markdown",
      "source": [
        "### Additional adjustments to the dataset"
      ],
      "metadata": {
        "id": "cd_E9ccYKBu9"
      }
    },
    {
      "cell_type": "code",
      "source": [
        "# Drop the rows where the subject is inactive\n",
        "comdf = comdf[comdf['activity']!=0]\n",
        "comdf.shape"
      ],
      "metadata": {
        "colab": {
          "base_uri": "https://localhost:8080/"
        },
        "id": "G3Hu9BEYbZeh",
        "outputId": "e405aae2-5d7f-4eba-ced1-14b8677bc1b1"
      },
      "execution_count": null,
      "outputs": [
        {
          "output_type": "execute_result",
          "data": {
            "text/plain": [
              "(343195, 25)"
            ]
          },
          "metadata": {},
          "execution_count": 11
        }
      ]
    },
    {
      "cell_type": "code",
      "source": [
        "comdf.describe()"
      ],
      "metadata": {
        "colab": {
          "base_uri": "https://localhost:8080/"
        },
        "id": "-MRY0k08Z3Jm",
        "outputId": "f70d8284-99ad-4bda-d225-90631b715236"
      },
      "execution_count": null,
      "outputs": [
        {
          "output_type": "execute_result",
          "data": {
            "text/plain": [
              "                 acx            acy            acz         ecsig1  \\\n",
              "count  343195.000000  343195.000000  343195.000000  343195.000000   \n",
              "mean       -7.485271      -0.140923      -0.938418       0.003649   \n",
              "std         5.701949       2.799380       4.611164       0.839074   \n",
              "min       -22.438000     -20.188000     -18.401000      -8.619600   \n",
              "25%        -9.707100      -1.294300      -3.686550      -0.213500   \n",
              "50%        -8.800300      -0.292570      -0.881070      -0.071167   \n",
              "75%        -5.117400       0.984775       1.092650       0.163270   \n",
              "max        19.094000      20.927000      26.196000       8.506500   \n",
              "\n",
              "              ecsig2            alx            aly            alz  \\\n",
              "count  343195.000000  343195.000000  343195.000000  343195.000000   \n",
              "mean       -0.008048       1.805184      -9.061487      -0.701985   \n",
              "std         0.857724       4.214175       5.200389       6.457622   \n",
              "min        -8.619600     -22.146000     -19.619000     -19.373000   \n",
              "25%        -0.171640       0.159875     -10.063000      -3.494350   \n",
              "50%        -0.046049       1.372500      -9.597700       0.340070   \n",
              "75%         0.138150       2.924450      -7.549800       1.819300   \n",
              "max         8.519100      20.024000      21.161000      25.015000   \n",
              "\n",
              "                 glx            gly  ...            arx            ary  \\\n",
              "count  343195.000000  343195.000000  ...  343195.000000  343195.000000   \n",
              "mean        0.101167      -0.549942  ...      -3.448201      -5.781446   \n",
              "std         0.458913       0.434721  ...       5.891595       6.578371   \n",
              "min        -1.779200      -2.660400  ...     -22.345000     -18.972000   \n",
              "25%        -0.345080      -0.810510  ...      -5.013900      -9.558100   \n",
              "50%         0.204080      -0.688560  ...      -2.480000      -7.738900   \n",
              "75%         0.487940      -0.487800  ...      -0.539050      -2.359550   \n",
              "max         1.710600       1.752300  ...      19.801000      21.965000   \n",
              "\n",
              "                 arz            grx            gry            grz  \\\n",
              "count  343195.000000  343195.000000  343195.000000  343195.000000   \n",
              "mean        2.381165      -0.201574      -0.410515       0.380693   \n",
              "std         4.177971       0.549524       0.546359       0.515658   \n",
              "min       -18.238000      -1.170600      -2.256700      -1.114200   \n",
              "25%         0.139070      -0.682350      -0.831620      -0.040948   \n",
              "50%         1.819100      -0.300000      -0.597540       0.448280   \n",
              "75%         5.324750       0.278430      -0.045175       0.840520   \n",
              "max        25.741000       1.415700       1.121100       1.528000   \n",
              "\n",
              "                 mrx            mry            mrz       activity  \n",
              "count  343195.000000  343195.000000  343195.000000  343195.000000  \n",
              "mean       -0.532629       1.422140       0.030670       6.169021  \n",
              "std        34.216257      30.285262      82.663004       3.298902  \n",
              "min      -319.030000    -358.130000    -702.570000       1.000000  \n",
              "25%        -6.228350      -7.272000     -12.170000       3.000000  \n",
              "50%         0.360740       0.353930      -0.709300       6.000000  \n",
              "75%         5.224000       8.350250      10.302500       9.000000  \n",
              "max       239.690000     335.250000     657.180000      12.000000  \n",
              "\n",
              "[8 rows x 24 columns]"
            ],
            "text/html": [
              "\n",
              "  <div id=\"df-b2bc972e-1080-47b4-87bd-5ddc78c21e4b\" class=\"colab-df-container\">\n",
              "    <div>\n",
              "<style scoped>\n",
              "    .dataframe tbody tr th:only-of-type {\n",
              "        vertical-align: middle;\n",
              "    }\n",
              "\n",
              "    .dataframe tbody tr th {\n",
              "        vertical-align: top;\n",
              "    }\n",
              "\n",
              "    .dataframe thead th {\n",
              "        text-align: right;\n",
              "    }\n",
              "</style>\n",
              "<table border=\"1\" class=\"dataframe\">\n",
              "  <thead>\n",
              "    <tr style=\"text-align: right;\">\n",
              "      <th></th>\n",
              "      <th>acx</th>\n",
              "      <th>acy</th>\n",
              "      <th>acz</th>\n",
              "      <th>ecsig1</th>\n",
              "      <th>ecsig2</th>\n",
              "      <th>alx</th>\n",
              "      <th>aly</th>\n",
              "      <th>alz</th>\n",
              "      <th>glx</th>\n",
              "      <th>gly</th>\n",
              "      <th>...</th>\n",
              "      <th>arx</th>\n",
              "      <th>ary</th>\n",
              "      <th>arz</th>\n",
              "      <th>grx</th>\n",
              "      <th>gry</th>\n",
              "      <th>grz</th>\n",
              "      <th>mrx</th>\n",
              "      <th>mry</th>\n",
              "      <th>mrz</th>\n",
              "      <th>activity</th>\n",
              "    </tr>\n",
              "  </thead>\n",
              "  <tbody>\n",
              "    <tr>\n",
              "      <th>count</th>\n",
              "      <td>343195.000000</td>\n",
              "      <td>343195.000000</td>\n",
              "      <td>343195.000000</td>\n",
              "      <td>343195.000000</td>\n",
              "      <td>343195.000000</td>\n",
              "      <td>343195.000000</td>\n",
              "      <td>343195.000000</td>\n",
              "      <td>343195.000000</td>\n",
              "      <td>343195.000000</td>\n",
              "      <td>343195.000000</td>\n",
              "      <td>...</td>\n",
              "      <td>343195.000000</td>\n",
              "      <td>343195.000000</td>\n",
              "      <td>343195.000000</td>\n",
              "      <td>343195.000000</td>\n",
              "      <td>343195.000000</td>\n",
              "      <td>343195.000000</td>\n",
              "      <td>343195.000000</td>\n",
              "      <td>343195.000000</td>\n",
              "      <td>343195.000000</td>\n",
              "      <td>343195.000000</td>\n",
              "    </tr>\n",
              "    <tr>\n",
              "      <th>mean</th>\n",
              "      <td>-7.485271</td>\n",
              "      <td>-0.140923</td>\n",
              "      <td>-0.938418</td>\n",
              "      <td>0.003649</td>\n",
              "      <td>-0.008048</td>\n",
              "      <td>1.805184</td>\n",
              "      <td>-9.061487</td>\n",
              "      <td>-0.701985</td>\n",
              "      <td>0.101167</td>\n",
              "      <td>-0.549942</td>\n",
              "      <td>...</td>\n",
              "      <td>-3.448201</td>\n",
              "      <td>-5.781446</td>\n",
              "      <td>2.381165</td>\n",
              "      <td>-0.201574</td>\n",
              "      <td>-0.410515</td>\n",
              "      <td>0.380693</td>\n",
              "      <td>-0.532629</td>\n",
              "      <td>1.422140</td>\n",
              "      <td>0.030670</td>\n",
              "      <td>6.169021</td>\n",
              "    </tr>\n",
              "    <tr>\n",
              "      <th>std</th>\n",
              "      <td>5.701949</td>\n",
              "      <td>2.799380</td>\n",
              "      <td>4.611164</td>\n",
              "      <td>0.839074</td>\n",
              "      <td>0.857724</td>\n",
              "      <td>4.214175</td>\n",
              "      <td>5.200389</td>\n",
              "      <td>6.457622</td>\n",
              "      <td>0.458913</td>\n",
              "      <td>0.434721</td>\n",
              "      <td>...</td>\n",
              "      <td>5.891595</td>\n",
              "      <td>6.578371</td>\n",
              "      <td>4.177971</td>\n",
              "      <td>0.549524</td>\n",
              "      <td>0.546359</td>\n",
              "      <td>0.515658</td>\n",
              "      <td>34.216257</td>\n",
              "      <td>30.285262</td>\n",
              "      <td>82.663004</td>\n",
              "      <td>3.298902</td>\n",
              "    </tr>\n",
              "    <tr>\n",
              "      <th>min</th>\n",
              "      <td>-22.438000</td>\n",
              "      <td>-20.188000</td>\n",
              "      <td>-18.401000</td>\n",
              "      <td>-8.619600</td>\n",
              "      <td>-8.619600</td>\n",
              "      <td>-22.146000</td>\n",
              "      <td>-19.619000</td>\n",
              "      <td>-19.373000</td>\n",
              "      <td>-1.779200</td>\n",
              "      <td>-2.660400</td>\n",
              "      <td>...</td>\n",
              "      <td>-22.345000</td>\n",
              "      <td>-18.972000</td>\n",
              "      <td>-18.238000</td>\n",
              "      <td>-1.170600</td>\n",
              "      <td>-2.256700</td>\n",
              "      <td>-1.114200</td>\n",
              "      <td>-319.030000</td>\n",
              "      <td>-358.130000</td>\n",
              "      <td>-702.570000</td>\n",
              "      <td>1.000000</td>\n",
              "    </tr>\n",
              "    <tr>\n",
              "      <th>25%</th>\n",
              "      <td>-9.707100</td>\n",
              "      <td>-1.294300</td>\n",
              "      <td>-3.686550</td>\n",
              "      <td>-0.213500</td>\n",
              "      <td>-0.171640</td>\n",
              "      <td>0.159875</td>\n",
              "      <td>-10.063000</td>\n",
              "      <td>-3.494350</td>\n",
              "      <td>-0.345080</td>\n",
              "      <td>-0.810510</td>\n",
              "      <td>...</td>\n",
              "      <td>-5.013900</td>\n",
              "      <td>-9.558100</td>\n",
              "      <td>0.139070</td>\n",
              "      <td>-0.682350</td>\n",
              "      <td>-0.831620</td>\n",
              "      <td>-0.040948</td>\n",
              "      <td>-6.228350</td>\n",
              "      <td>-7.272000</td>\n",
              "      <td>-12.170000</td>\n",
              "      <td>3.000000</td>\n",
              "    </tr>\n",
              "    <tr>\n",
              "      <th>50%</th>\n",
              "      <td>-8.800300</td>\n",
              "      <td>-0.292570</td>\n",
              "      <td>-0.881070</td>\n",
              "      <td>-0.071167</td>\n",
              "      <td>-0.046049</td>\n",
              "      <td>1.372500</td>\n",
              "      <td>-9.597700</td>\n",
              "      <td>0.340070</td>\n",
              "      <td>0.204080</td>\n",
              "      <td>-0.688560</td>\n",
              "      <td>...</td>\n",
              "      <td>-2.480000</td>\n",
              "      <td>-7.738900</td>\n",
              "      <td>1.819100</td>\n",
              "      <td>-0.300000</td>\n",
              "      <td>-0.597540</td>\n",
              "      <td>0.448280</td>\n",
              "      <td>0.360740</td>\n",
              "      <td>0.353930</td>\n",
              "      <td>-0.709300</td>\n",
              "      <td>6.000000</td>\n",
              "    </tr>\n",
              "    <tr>\n",
              "      <th>75%</th>\n",
              "      <td>-5.117400</td>\n",
              "      <td>0.984775</td>\n",
              "      <td>1.092650</td>\n",
              "      <td>0.163270</td>\n",
              "      <td>0.138150</td>\n",
              "      <td>2.924450</td>\n",
              "      <td>-7.549800</td>\n",
              "      <td>1.819300</td>\n",
              "      <td>0.487940</td>\n",
              "      <td>-0.487800</td>\n",
              "      <td>...</td>\n",
              "      <td>-0.539050</td>\n",
              "      <td>-2.359550</td>\n",
              "      <td>5.324750</td>\n",
              "      <td>0.278430</td>\n",
              "      <td>-0.045175</td>\n",
              "      <td>0.840520</td>\n",
              "      <td>5.224000</td>\n",
              "      <td>8.350250</td>\n",
              "      <td>10.302500</td>\n",
              "      <td>9.000000</td>\n",
              "    </tr>\n",
              "    <tr>\n",
              "      <th>max</th>\n",
              "      <td>19.094000</td>\n",
              "      <td>20.927000</td>\n",
              "      <td>26.196000</td>\n",
              "      <td>8.506500</td>\n",
              "      <td>8.519100</td>\n",
              "      <td>20.024000</td>\n",
              "      <td>21.161000</td>\n",
              "      <td>25.015000</td>\n",
              "      <td>1.710600</td>\n",
              "      <td>1.752300</td>\n",
              "      <td>...</td>\n",
              "      <td>19.801000</td>\n",
              "      <td>21.965000</td>\n",
              "      <td>25.741000</td>\n",
              "      <td>1.415700</td>\n",
              "      <td>1.121100</td>\n",
              "      <td>1.528000</td>\n",
              "      <td>239.690000</td>\n",
              "      <td>335.250000</td>\n",
              "      <td>657.180000</td>\n",
              "      <td>12.000000</td>\n",
              "    </tr>\n",
              "  </tbody>\n",
              "</table>\n",
              "<p>8 rows × 24 columns</p>\n",
              "</div>\n",
              "    <div class=\"colab-df-buttons\">\n",
              "\n",
              "  <div class=\"colab-df-container\">\n",
              "    <button class=\"colab-df-convert\" onclick=\"convertToInteractive('df-b2bc972e-1080-47b4-87bd-5ddc78c21e4b')\"\n",
              "            title=\"Convert this dataframe to an interactive table.\"\n",
              "            style=\"display:none;\">\n",
              "\n",
              "  <svg xmlns=\"http://www.w3.org/2000/svg\" height=\"24px\" viewBox=\"0 -960 960 960\">\n",
              "    <path d=\"M120-120v-720h720v720H120Zm60-500h600v-160H180v160Zm220 220h160v-160H400v160Zm0 220h160v-160H400v160ZM180-400h160v-160H180v160Zm440 0h160v-160H620v160ZM180-180h160v-160H180v160Zm440 0h160v-160H620v160Z\"/>\n",
              "  </svg>\n",
              "    </button>\n",
              "\n",
              "  <style>\n",
              "    .colab-df-container {\n",
              "      display:flex;\n",
              "      gap: 12px;\n",
              "    }\n",
              "\n",
              "    .colab-df-convert {\n",
              "      background-color: #E8F0FE;\n",
              "      border: none;\n",
              "      border-radius: 50%;\n",
              "      cursor: pointer;\n",
              "      display: none;\n",
              "      fill: #1967D2;\n",
              "      height: 32px;\n",
              "      padding: 0 0 0 0;\n",
              "      width: 32px;\n",
              "    }\n",
              "\n",
              "    .colab-df-convert:hover {\n",
              "      background-color: #E2EBFA;\n",
              "      box-shadow: 0px 1px 2px rgba(60, 64, 67, 0.3), 0px 1px 3px 1px rgba(60, 64, 67, 0.15);\n",
              "      fill: #174EA6;\n",
              "    }\n",
              "\n",
              "    .colab-df-buttons div {\n",
              "      margin-bottom: 4px;\n",
              "    }\n",
              "\n",
              "    [theme=dark] .colab-df-convert {\n",
              "      background-color: #3B4455;\n",
              "      fill: #D2E3FC;\n",
              "    }\n",
              "\n",
              "    [theme=dark] .colab-df-convert:hover {\n",
              "      background-color: #434B5C;\n",
              "      box-shadow: 0px 1px 3px 1px rgba(0, 0, 0, 0.15);\n",
              "      filter: drop-shadow(0px 1px 2px rgba(0, 0, 0, 0.3));\n",
              "      fill: #FFFFFF;\n",
              "    }\n",
              "  </style>\n",
              "\n",
              "    <script>\n",
              "      const buttonEl =\n",
              "        document.querySelector('#df-b2bc972e-1080-47b4-87bd-5ddc78c21e4b button.colab-df-convert');\n",
              "      buttonEl.style.display =\n",
              "        google.colab.kernel.accessAllowed ? 'block' : 'none';\n",
              "\n",
              "      async function convertToInteractive(key) {\n",
              "        const element = document.querySelector('#df-b2bc972e-1080-47b4-87bd-5ddc78c21e4b');\n",
              "        const dataTable =\n",
              "          await google.colab.kernel.invokeFunction('convertToInteractive',\n",
              "                                                    [key], {});\n",
              "        if (!dataTable) return;\n",
              "\n",
              "        const docLinkHtml = 'Like what you see? Visit the ' +\n",
              "          '<a target=\"_blank\" href=https://colab.research.google.com/notebooks/data_table.ipynb>data table notebook</a>'\n",
              "          + ' to learn more about interactive tables.';\n",
              "        element.innerHTML = '';\n",
              "        dataTable['output_type'] = 'display_data';\n",
              "        await google.colab.output.renderOutput(dataTable, element);\n",
              "        const docLink = document.createElement('div');\n",
              "        docLink.innerHTML = docLinkHtml;\n",
              "        element.appendChild(docLink);\n",
              "      }\n",
              "    </script>\n",
              "  </div>\n",
              "\n",
              "\n",
              "<div id=\"df-01cceee1-2dc1-459d-85ec-45c58da28119\">\n",
              "  <button class=\"colab-df-quickchart\" onclick=\"quickchart('df-01cceee1-2dc1-459d-85ec-45c58da28119')\"\n",
              "            title=\"Suggest charts.\"\n",
              "            style=\"display:none;\">\n",
              "\n",
              "<svg xmlns=\"http://www.w3.org/2000/svg\" height=\"24px\"viewBox=\"0 0 24 24\"\n",
              "     width=\"24px\">\n",
              "    <g>\n",
              "        <path d=\"M19 3H5c-1.1 0-2 .9-2 2v14c0 1.1.9 2 2 2h14c1.1 0 2-.9 2-2V5c0-1.1-.9-2-2-2zM9 17H7v-7h2v7zm4 0h-2V7h2v10zm4 0h-2v-4h2v4z\"/>\n",
              "    </g>\n",
              "</svg>\n",
              "  </button>\n",
              "\n",
              "<style>\n",
              "  .colab-df-quickchart {\n",
              "      --bg-color: #E8F0FE;\n",
              "      --fill-color: #1967D2;\n",
              "      --hover-bg-color: #E2EBFA;\n",
              "      --hover-fill-color: #174EA6;\n",
              "      --disabled-fill-color: #AAA;\n",
              "      --disabled-bg-color: #DDD;\n",
              "  }\n",
              "\n",
              "  [theme=dark] .colab-df-quickchart {\n",
              "      --bg-color: #3B4455;\n",
              "      --fill-color: #D2E3FC;\n",
              "      --hover-bg-color: #434B5C;\n",
              "      --hover-fill-color: #FFFFFF;\n",
              "      --disabled-bg-color: #3B4455;\n",
              "      --disabled-fill-color: #666;\n",
              "  }\n",
              "\n",
              "  .colab-df-quickchart {\n",
              "    background-color: var(--bg-color);\n",
              "    border: none;\n",
              "    border-radius: 50%;\n",
              "    cursor: pointer;\n",
              "    display: none;\n",
              "    fill: var(--fill-color);\n",
              "    height: 32px;\n",
              "    padding: 0;\n",
              "    width: 32px;\n",
              "  }\n",
              "\n",
              "  .colab-df-quickchart:hover {\n",
              "    background-color: var(--hover-bg-color);\n",
              "    box-shadow: 0 1px 2px rgba(60, 64, 67, 0.3), 0 1px 3px 1px rgba(60, 64, 67, 0.15);\n",
              "    fill: var(--button-hover-fill-color);\n",
              "  }\n",
              "\n",
              "  .colab-df-quickchart-complete:disabled,\n",
              "  .colab-df-quickchart-complete:disabled:hover {\n",
              "    background-color: var(--disabled-bg-color);\n",
              "    fill: var(--disabled-fill-color);\n",
              "    box-shadow: none;\n",
              "  }\n",
              "\n",
              "  .colab-df-spinner {\n",
              "    border: 2px solid var(--fill-color);\n",
              "    border-color: transparent;\n",
              "    border-bottom-color: var(--fill-color);\n",
              "    animation:\n",
              "      spin 1s steps(1) infinite;\n",
              "  }\n",
              "\n",
              "  @keyframes spin {\n",
              "    0% {\n",
              "      border-color: transparent;\n",
              "      border-bottom-color: var(--fill-color);\n",
              "      border-left-color: var(--fill-color);\n",
              "    }\n",
              "    20% {\n",
              "      border-color: transparent;\n",
              "      border-left-color: var(--fill-color);\n",
              "      border-top-color: var(--fill-color);\n",
              "    }\n",
              "    30% {\n",
              "      border-color: transparent;\n",
              "      border-left-color: var(--fill-color);\n",
              "      border-top-color: var(--fill-color);\n",
              "      border-right-color: var(--fill-color);\n",
              "    }\n",
              "    40% {\n",
              "      border-color: transparent;\n",
              "      border-right-color: var(--fill-color);\n",
              "      border-top-color: var(--fill-color);\n",
              "    }\n",
              "    60% {\n",
              "      border-color: transparent;\n",
              "      border-right-color: var(--fill-color);\n",
              "    }\n",
              "    80% {\n",
              "      border-color: transparent;\n",
              "      border-right-color: var(--fill-color);\n",
              "      border-bottom-color: var(--fill-color);\n",
              "    }\n",
              "    90% {\n",
              "      border-color: transparent;\n",
              "      border-bottom-color: var(--fill-color);\n",
              "    }\n",
              "  }\n",
              "</style>\n",
              "\n",
              "  <script>\n",
              "    async function quickchart(key) {\n",
              "      const quickchartButtonEl =\n",
              "        document.querySelector('#' + key + ' button');\n",
              "      quickchartButtonEl.disabled = true;  // To prevent multiple clicks.\n",
              "      quickchartButtonEl.classList.add('colab-df-spinner');\n",
              "      try {\n",
              "        const charts = await google.colab.kernel.invokeFunction(\n",
              "            'suggestCharts', [key], {});\n",
              "      } catch (error) {\n",
              "        console.error('Error during call to suggestCharts:', error);\n",
              "      }\n",
              "      quickchartButtonEl.classList.remove('colab-df-spinner');\n",
              "      quickchartButtonEl.classList.add('colab-df-quickchart-complete');\n",
              "    }\n",
              "    (() => {\n",
              "      let quickchartButtonEl =\n",
              "        document.querySelector('#df-01cceee1-2dc1-459d-85ec-45c58da28119 button');\n",
              "      quickchartButtonEl.style.display =\n",
              "        google.colab.kernel.accessAllowed ? 'block' : 'none';\n",
              "    })();\n",
              "  </script>\n",
              "</div>\n",
              "    </div>\n",
              "  </div>\n"
            ]
          },
          "metadata": {},
          "execution_count": 12
        }
      ]
    },
    {
      "cell_type": "code",
      "source": [
        "comdf['activity'].value_counts()"
      ],
      "metadata": {
        "colab": {
          "base_uri": "https://localhost:8080/"
        },
        "collapsed": true,
        "id": "4lqY5yh-j3Gf",
        "outputId": "ca9d11d6-0f43-475f-b2ee-95fada8832df"
      },
      "execution_count": null,
      "outputs": [
        {
          "output_type": "execute_result",
          "data": {
            "text/plain": [
              "1     30720\n",
              "2     30720\n",
              "3     30720\n",
              "4     30720\n",
              "9     30720\n",
              "10    30720\n",
              "11    30720\n",
              "5     30720\n",
              "7     29441\n",
              "8     29337\n",
              "6     28315\n",
              "12    10342\n",
              "Name: activity, dtype: int64"
            ]
          },
          "metadata": {},
          "execution_count": 13
        }
      ]
    },
    {
      "cell_type": "code",
      "source": [
        "# Convert the activity from range [1,12] to range [0,11] for indexing\n",
        "comdf['activity'] = comdf['activity'] - 1"
      ],
      "metadata": {
        "id": "hYtr7GFXl3IV"
      },
      "execution_count": null,
      "outputs": []
    },
    {
      "cell_type": "code",
      "source": [
        "comdf['activity'].unique()"
      ],
      "metadata": {
        "colab": {
          "base_uri": "https://localhost:8080/"
        },
        "id": "SDmOLHHLl_7p",
        "outputId": "783229f7-4f26-4468-85bd-4c01d46a86f9"
      },
      "execution_count": null,
      "outputs": [
        {
          "output_type": "execute_result",
          "data": {
            "text/plain": [
              "array([ 0,  1,  2,  3,  5,  6,  7,  8,  9, 10, 11,  4])"
            ]
          },
          "metadata": {},
          "execution_count": 15
        }
      ]
    },
    {
      "cell_type": "code",
      "source": [
        "comdf['subject'].value_counts()"
      ],
      "metadata": {
        "colab": {
          "base_uri": "https://localhost:8080/"
        },
        "collapsed": true,
        "id": "GDXaFoqzmAx0",
        "outputId": "170159f1-ab33-4c7f-c714-b6a1d3d63cb3"
      },
      "execution_count": null,
      "outputs": [
        {
          "output_type": "execute_result",
          "data": {
            "text/plain": [
              "subject2     35532\n",
              "subject3     35380\n",
              "subject4     35328\n",
              "subject1     35174\n",
              "subject9     34354\n",
              "subject7     34253\n",
              "subject5     33947\n",
              "subject10    33690\n",
              "subject8     33332\n",
              "subject6     32205\n",
              "Name: subject, dtype: int64"
            ]
          },
          "metadata": {},
          "execution_count": 16
        }
      ]
    },
    {
      "cell_type": "markdown",
      "source": [
        "### Create the train-test split"
      ],
      "metadata": {
        "id": "sZNoZT8KKnOE"
      }
    },
    {
      "cell_type": "code",
      "source": [
        "from sklearn.model_selection import train_test_split"
      ],
      "metadata": {
        "id": "D7EEqDUWNvcy"
      },
      "execution_count": null,
      "outputs": []
    },
    {
      "cell_type": "code",
      "source": [
        "trainx = pd.DataFrame()\n",
        "trainy = pd.DataFrame()\n",
        "testx = pd.DataFrame()\n",
        "testy = pd.DataFrame()"
      ],
      "metadata": {
        "id": "46MvsXQzmLjM"
      },
      "execution_count": null,
      "outputs": []
    },
    {
      "cell_type": "code",
      "source": [
        "# For each activity within each test subject, take 70% of data for training and 30% of data for testing\n",
        "for i in range(1,11):\n",
        "  for activity in range(0,12):\n",
        "    sub = comdf[(comdf['activity'] == activity) & (comdf['subject'] == 'subject'+str(i))]\n",
        "    subx = sub.drop(['activity', 'subject'], axis=1)\n",
        "    suby = sub['activity']\n",
        "    subtrainx, subtestx, subtrainy, subtesty = train_test_split(subx,suby,test_size=0.3,random_state=3)\n",
        "    trainx = pd.concat([trainx, subtrainx])\n",
        "    trainy = pd.concat([trainy, subtrainy])\n",
        "    testx = pd.concat([testx, subtestx])\n",
        "    testy = pd.concat([testy, subtesty])"
      ],
      "metadata": {
        "id": "0d4JvShooj_Z"
      },
      "execution_count": null,
      "outputs": []
    },
    {
      "cell_type": "code",
      "source": [
        "print(trainx.shape)\n",
        "print(trainy.shape)\n",
        "print(testx.shape)\n",
        "print(testy.shape)"
      ],
      "metadata": {
        "colab": {
          "base_uri": "https://localhost:8080/"
        },
        "id": "8y_hAvqs6R-H",
        "outputId": "3d2f1097-2305-4047-b63b-9afb9eb7ee66"
      },
      "execution_count": null,
      "outputs": [
        {
          "output_type": "stream",
          "name": "stdout",
          "text": [
            "(240182, 23)\n",
            "(240182, 1)\n",
            "(103013, 23)\n",
            "(103013, 1)\n"
          ]
        }
      ]
    },
    {
      "cell_type": "markdown",
      "source": [
        "### Standardize the train and test data"
      ],
      "metadata": {
        "id": "7HwkX65VLFXn"
      }
    },
    {
      "cell_type": "code",
      "source": [
        "from sklearn.preprocessing import StandardScaler"
      ],
      "metadata": {
        "id": "3Z1QgSfyPZUc"
      },
      "execution_count": null,
      "outputs": []
    },
    {
      "cell_type": "code",
      "source": [
        "scaler = StandardScaler()\n",
        "trainx_scaled = scaler.fit_transform(trainx)\n",
        "testx_scaled = scaler.transform(testx)"
      ],
      "metadata": {
        "id": "OfGzYyJU7AcY"
      },
      "execution_count": null,
      "outputs": []
    },
    {
      "cell_type": "code",
      "source": [
        "trainx.head(1)"
      ],
      "metadata": {
        "colab": {
          "base_uri": "https://localhost:8080/"
        },
        "id": "PjB-4m23-Z0U",
        "outputId": "2adcc16e-a5b9-492a-a2f0-862fc5198c51"
      },
      "execution_count": null,
      "outputs": [
        {
          "output_type": "execute_result",
          "data": {
            "text/plain": [
              "        acx      acy      acz    ecsig1    ecsig2     alx     aly      alz  \\\n",
              "8136 -9.871  0.61958  0.89787 -0.004186 -0.037677  2.4974 -9.5005  0.44578   \n",
              "\n",
              "          glx      gly  ...      mlz     arx     ary     arz       grx  \\\n",
              "8136 -0.21707 -0.87805  ... -0.58665 -3.0288 -8.9639  1.6143 -0.070588   \n",
              "\n",
              "          gry     grz      mrx     mry      mrz  \n",
              "8136 -0.93018 -0.3556  0.56029  2.1685 -0.37149  \n",
              "\n",
              "[1 rows x 23 columns]"
            ],
            "text/html": [
              "\n",
              "  <div id=\"df-870f0940-711f-4c1d-8331-22c4fa8a942e\" class=\"colab-df-container\">\n",
              "    <div>\n",
              "<style scoped>\n",
              "    .dataframe tbody tr th:only-of-type {\n",
              "        vertical-align: middle;\n",
              "    }\n",
              "\n",
              "    .dataframe tbody tr th {\n",
              "        vertical-align: top;\n",
              "    }\n",
              "\n",
              "    .dataframe thead th {\n",
              "        text-align: right;\n",
              "    }\n",
              "</style>\n",
              "<table border=\"1\" class=\"dataframe\">\n",
              "  <thead>\n",
              "    <tr style=\"text-align: right;\">\n",
              "      <th></th>\n",
              "      <th>acx</th>\n",
              "      <th>acy</th>\n",
              "      <th>acz</th>\n",
              "      <th>ecsig1</th>\n",
              "      <th>ecsig2</th>\n",
              "      <th>alx</th>\n",
              "      <th>aly</th>\n",
              "      <th>alz</th>\n",
              "      <th>glx</th>\n",
              "      <th>gly</th>\n",
              "      <th>...</th>\n",
              "      <th>mlz</th>\n",
              "      <th>arx</th>\n",
              "      <th>ary</th>\n",
              "      <th>arz</th>\n",
              "      <th>grx</th>\n",
              "      <th>gry</th>\n",
              "      <th>grz</th>\n",
              "      <th>mrx</th>\n",
              "      <th>mry</th>\n",
              "      <th>mrz</th>\n",
              "    </tr>\n",
              "  </thead>\n",
              "  <tbody>\n",
              "    <tr>\n",
              "      <th>8136</th>\n",
              "      <td>-9.871</td>\n",
              "      <td>0.61958</td>\n",
              "      <td>0.89787</td>\n",
              "      <td>-0.004186</td>\n",
              "      <td>-0.037677</td>\n",
              "      <td>2.4974</td>\n",
              "      <td>-9.5005</td>\n",
              "      <td>0.44578</td>\n",
              "      <td>-0.21707</td>\n",
              "      <td>-0.87805</td>\n",
              "      <td>...</td>\n",
              "      <td>-0.58665</td>\n",
              "      <td>-3.0288</td>\n",
              "      <td>-8.9639</td>\n",
              "      <td>1.6143</td>\n",
              "      <td>-0.070588</td>\n",
              "      <td>-0.93018</td>\n",
              "      <td>-0.3556</td>\n",
              "      <td>0.56029</td>\n",
              "      <td>2.1685</td>\n",
              "      <td>-0.37149</td>\n",
              "    </tr>\n",
              "  </tbody>\n",
              "</table>\n",
              "<p>1 rows × 23 columns</p>\n",
              "</div>\n",
              "    <div class=\"colab-df-buttons\">\n",
              "\n",
              "  <div class=\"colab-df-container\">\n",
              "    <button class=\"colab-df-convert\" onclick=\"convertToInteractive('df-870f0940-711f-4c1d-8331-22c4fa8a942e')\"\n",
              "            title=\"Convert this dataframe to an interactive table.\"\n",
              "            style=\"display:none;\">\n",
              "\n",
              "  <svg xmlns=\"http://www.w3.org/2000/svg\" height=\"24px\" viewBox=\"0 -960 960 960\">\n",
              "    <path d=\"M120-120v-720h720v720H120Zm60-500h600v-160H180v160Zm220 220h160v-160H400v160Zm0 220h160v-160H400v160ZM180-400h160v-160H180v160Zm440 0h160v-160H620v160ZM180-180h160v-160H180v160Zm440 0h160v-160H620v160Z\"/>\n",
              "  </svg>\n",
              "    </button>\n",
              "\n",
              "  <style>\n",
              "    .colab-df-container {\n",
              "      display:flex;\n",
              "      gap: 12px;\n",
              "    }\n",
              "\n",
              "    .colab-df-convert {\n",
              "      background-color: #E8F0FE;\n",
              "      border: none;\n",
              "      border-radius: 50%;\n",
              "      cursor: pointer;\n",
              "      display: none;\n",
              "      fill: #1967D2;\n",
              "      height: 32px;\n",
              "      padding: 0 0 0 0;\n",
              "      width: 32px;\n",
              "    }\n",
              "\n",
              "    .colab-df-convert:hover {\n",
              "      background-color: #E2EBFA;\n",
              "      box-shadow: 0px 1px 2px rgba(60, 64, 67, 0.3), 0px 1px 3px 1px rgba(60, 64, 67, 0.15);\n",
              "      fill: #174EA6;\n",
              "    }\n",
              "\n",
              "    .colab-df-buttons div {\n",
              "      margin-bottom: 4px;\n",
              "    }\n",
              "\n",
              "    [theme=dark] .colab-df-convert {\n",
              "      background-color: #3B4455;\n",
              "      fill: #D2E3FC;\n",
              "    }\n",
              "\n",
              "    [theme=dark] .colab-df-convert:hover {\n",
              "      background-color: #434B5C;\n",
              "      box-shadow: 0px 1px 3px 1px rgba(0, 0, 0, 0.15);\n",
              "      filter: drop-shadow(0px 1px 2px rgba(0, 0, 0, 0.3));\n",
              "      fill: #FFFFFF;\n",
              "    }\n",
              "  </style>\n",
              "\n",
              "    <script>\n",
              "      const buttonEl =\n",
              "        document.querySelector('#df-870f0940-711f-4c1d-8331-22c4fa8a942e button.colab-df-convert');\n",
              "      buttonEl.style.display =\n",
              "        google.colab.kernel.accessAllowed ? 'block' : 'none';\n",
              "\n",
              "      async function convertToInteractive(key) {\n",
              "        const element = document.querySelector('#df-870f0940-711f-4c1d-8331-22c4fa8a942e');\n",
              "        const dataTable =\n",
              "          await google.colab.kernel.invokeFunction('convertToInteractive',\n",
              "                                                    [key], {});\n",
              "        if (!dataTable) return;\n",
              "\n",
              "        const docLinkHtml = 'Like what you see? Visit the ' +\n",
              "          '<a target=\"_blank\" href=https://colab.research.google.com/notebooks/data_table.ipynb>data table notebook</a>'\n",
              "          + ' to learn more about interactive tables.';\n",
              "        element.innerHTML = '';\n",
              "        dataTable['output_type'] = 'display_data';\n",
              "        await google.colab.output.renderOutput(dataTable, element);\n",
              "        const docLink = document.createElement('div');\n",
              "        docLink.innerHTML = docLinkHtml;\n",
              "        element.appendChild(docLink);\n",
              "      }\n",
              "    </script>\n",
              "  </div>\n",
              "\n",
              "    </div>\n",
              "  </div>\n"
            ]
          },
          "metadata": {},
          "execution_count": 23
        }
      ]
    },
    {
      "cell_type": "code",
      "source": [
        "trainx_scaled.shape"
      ],
      "metadata": {
        "colab": {
          "base_uri": "https://localhost:8080/"
        },
        "id": "FFreEQcu7FCa",
        "outputId": "174d3eb1-e0d8-4e8e-d757-8b9f2c7902f5"
      },
      "execution_count": null,
      "outputs": [
        {
          "output_type": "execute_result",
          "data": {
            "text/plain": [
              "(240182, 23)"
            ]
          },
          "metadata": {},
          "execution_count": 24
        }
      ]
    },
    {
      "cell_type": "code",
      "source": [
        "trainx_scaled[0]"
      ],
      "metadata": {
        "colab": {
          "base_uri": "https://localhost:8080/"
        },
        "id": "3vz3Ct6S-XrB",
        "outputId": "f7c043a9-61a1-4b17-a482-317e624abeb9"
      },
      "execution_count": null,
      "outputs": [
        {
          "output_type": "execute_result",
          "data": {
            "text/plain": [
              "array([-4.19634023e-01,  2.71040698e-01,  3.99268186e-01, -9.49042352e-03,\n",
              "       -3.42951976e-02,  1.65037174e-01, -8.35496150e-02,  1.77706611e-01,\n",
              "       -6.92872148e-01, -7.55933725e-01, -6.80157716e-01, -6.96913110e-04,\n",
              "        4.96967212e-02, -1.06417976e-02,  7.19747709e-02, -4.85388461e-01,\n",
              "       -1.83587436e-01,  2.38116900e-01, -9.52483883e-01, -1.42626522e+00,\n",
              "        3.08686024e-02,  2.45171784e-02, -5.24630760e-03])"
            ]
          },
          "metadata": {},
          "execution_count": 25
        }
      ]
    },
    {
      "cell_type": "markdown",
      "source": [
        "### Models"
      ],
      "metadata": {
        "id": "oHXD3BK9Lefw"
      }
    },
    {
      "cell_type": "code",
      "source": [
        "import torch\n",
        "import torch.nn as nn\n",
        "import torch.optim as optim"
      ],
      "metadata": {
        "id": "ESxs3FE56S7X"
      },
      "execution_count": null,
      "outputs": []
    },
    {
      "cell_type": "markdown",
      "source": [
        "#### Model 1"
      ],
      "metadata": {
        "id": "saUuan_CX_99"
      }
    },
    {
      "cell_type": "code",
      "source": [
        "# Define the LSTM model\n",
        "class LSTMModel(nn.Module):\n",
        "    def __init__(self, input_size, hidden_size, num_layers, num_classes):\n",
        "        super(LSTMModel, self).__init__()\n",
        "        self.hidden_size = hidden_size\n",
        "        self.num_layers = num_layers\n",
        "        self.lstm = nn.LSTM(input_size, hidden_size, num_layers, batch_first=True)\n",
        "        self.fc = nn.Linear(hidden_size, num_classes)\n",
        "\n",
        "    def forward(self, x):\n",
        "        h0 = torch.zeros(self.num_layers, x.size(0), self.hidden_size).to(device)\n",
        "        c0 = torch.zeros(self.num_layers, x.size(0), self.hidden_size).to(device)\n",
        "        out, _ = self.lstm(x, (h0, c0))\n",
        "        out = self.fc(out[:, -1, :])  # Take the last time step's output\n",
        "        return out"
      ],
      "metadata": {
        "id": "n0BhNPFs6rMC"
      },
      "execution_count": null,
      "outputs": []
    },
    {
      "cell_type": "markdown",
      "source": [
        "#### Model with dropout"
      ],
      "metadata": {
        "id": "r6IQiTLtXpo1"
      }
    },
    {
      "cell_type": "code",
      "source": [
        "# class LSTMModelWithDropout(nn.Module):\n",
        "#     def __init__(self, input_size, hidden_size, num_layers, num_classes):\n",
        "#         super(LSTMModelWithDropout, self).__init__()\n",
        "#         self.hidden_size = hidden_size\n",
        "#         self.num_layers = num_layers\n",
        "#         self.lstm = nn.LSTM(input_size, hidden_size, num_layers, batch_first=True)\n",
        "#         self.dropout = nn.Dropout(0.25)  # Dropout layer with the specified dropout rate\n",
        "#         self.fc = nn.Linear(hidden_size, num_classes)\n",
        "\n",
        "#     def forward(self, x):\n",
        "#         h0 = torch.zeros(self.num_layers, x.size(0), self.hidden_size).to(device)\n",
        "#         c0 = torch.zeros(self.num_layers, x.size(0), self.hidden_size).to(device)\n",
        "\n",
        "#         # Apply dropout after each LSTM layer\n",
        "#         out, _ = self.lstm(x, (h0, c0))\n",
        "#         out = self.dropout(out)  # Apply dropout after each LSTM layer\n",
        "#         out = self.fc(out[:, -1, :])  # Take the last time step's output\n",
        "#         return out"
      ],
      "metadata": {
        "id": "DnCC9Rr-XoP0"
      },
      "execution_count": null,
      "outputs": []
    },
    {
      "cell_type": "markdown",
      "source": [
        "### Hyperparameters 1"
      ],
      "metadata": {
        "id": "ee-GS68TMtGc"
      }
    },
    {
      "cell_type": "code",
      "source": [
        "input_size = 23  # Number of features\n",
        "hidden_size = 128  # Number of LSTM units\n",
        "num_layers = 2  # Number of LSTM layers\n",
        "num_classes = 12  # Number of activity classes\n",
        "batch_size = 64\n",
        "learning_rate = 0.001\n",
        "num_epochs = 10\n",
        "sequence_length = 1"
      ],
      "metadata": {
        "id": "K-mTfdyzH6mi"
      },
      "execution_count": null,
      "outputs": []
    },
    {
      "cell_type": "markdown",
      "source": [
        "### Hyperparameters 2"
      ],
      "metadata": {
        "id": "60QGX2XPV9Bq"
      }
    },
    {
      "cell_type": "code",
      "source": [
        "# # Hyperparameters\n",
        "# input_size = 23  # Number of features\n",
        "# hidden_size = 64  # Number of LSTM units\n",
        "# num_layers = 3  # Number of LSTM layers\n",
        "# num_classes = 12  # Number of activity classes\n",
        "# batch_size = 64\n",
        "# learning_rate = 0.001\n",
        "# num_epochs = 10\n",
        "# sequence_length = 1"
      ],
      "metadata": {
        "id": "T3yxdVxNV3vu"
      },
      "execution_count": null,
      "outputs": []
    },
    {
      "cell_type": "markdown",
      "source": [
        "### Training"
      ],
      "metadata": {
        "id": "0jt34m0SNJpg"
      }
    },
    {
      "cell_type": "code",
      "source": [
        "from torch.utils.data import DataLoader, TensorDataset\n",
        "from sklearn.metrics import accuracy_score"
      ],
      "metadata": {
        "id": "DDXKHRUYQ3YY"
      },
      "execution_count": null,
      "outputs": []
    },
    {
      "cell_type": "code",
      "source": [
        "train_data = TensorDataset(torch.Tensor(trainx_scaled), torch.Tensor(trainy.values))\n",
        "train_loader = DataLoader(train_data, batch_size=batch_size, shuffle=True)\n",
        "n_total_steps = len(train_loader)"
      ],
      "metadata": {
        "id": "4e6RdmmGFNA3"
      },
      "execution_count": null,
      "outputs": []
    },
    {
      "cell_type": "code",
      "source": [
        "dataset_shape = next(iter(train_loader))[0].shape\n",
        "dataset_shape"
      ],
      "metadata": {
        "colab": {
          "base_uri": "https://localhost:8080/"
        },
        "id": "PUvb6H54K2dD",
        "outputId": "61ee88e3-c7d2-43d9-bd0c-98a6244794fa"
      },
      "execution_count": null,
      "outputs": [
        {
          "output_type": "execute_result",
          "data": {
            "text/plain": [
              "torch.Size([64, 23])"
            ]
          },
          "metadata": {},
          "execution_count": 32
        }
      ]
    },
    {
      "cell_type": "code",
      "source": [
        "# Create the LSTM model\n",
        "model = LSTMModelWithDropout(input_size, hidden_size, num_layers, num_classes)\n",
        "device = torch.device('cuda' if torch.cuda.is_available() else 'cpu')\n",
        "model.to(device)"
      ],
      "metadata": {
        "colab": {
          "base_uri": "https://localhost:8080/"
        },
        "id": "rVTyXbZnH0N2",
        "outputId": "44d9f82e-3b0b-4315-9bba-c0b8a2491e42"
      },
      "execution_count": null,
      "outputs": [
        {
          "output_type": "execute_result",
          "data": {
            "text/plain": [
              "LSTMModelWithDropout(\n",
              "  (lstm): LSTM(23, 128, num_layers=2, batch_first=True)\n",
              "  (dropout): Dropout(p=0.25, inplace=False)\n",
              "  (fc): Linear(in_features=128, out_features=12, bias=True)\n",
              ")"
            ]
          },
          "metadata": {},
          "execution_count": 33
        }
      ]
    },
    {
      "cell_type": "code",
      "source": [
        "# Loss and optimizer\n",
        "criterion = nn.CrossEntropyLoss()\n",
        "optimizer = optim.Adam(model.parameters(), lr=learning_rate)"
      ],
      "metadata": {
        "id": "dRNmQ3O8H9FR"
      },
      "execution_count": null,
      "outputs": []
    },
    {
      "cell_type": "code",
      "source": [
        "# Training loop\n",
        "for epoch in range(num_epochs):\n",
        "  for i, (inputs, labels) in enumerate(train_loader):\n",
        "    inputs = inputs.reshape(inputs.size()[0], sequence_length, input_size).to(device)\n",
        "    labels = labels.view(-1).long().to(device)  # Ensure labels are of type torch.long\n",
        "\n",
        "    optimizer.zero_grad()\n",
        "    outputs = model(inputs)\n",
        "    loss = criterion(outputs, labels)\n",
        "    loss.backward()\n",
        "    optimizer.step()\n",
        "\n",
        "    if(i+1)%1000 == 0:\n",
        "      print(f'Epoch[{epoch+1}/{num_epochs}], Step[{i+1}/{n_total_steps}], Loss: {loss.item():.4f}')\n"
      ],
      "metadata": {
        "colab": {
          "base_uri": "https://localhost:8080/"
        },
        "id": "H_THFNS2IAlJ",
        "outputId": "25ac91eb-584a-4006-eec3-2a60d3a69acc"
      },
      "execution_count": null,
      "outputs": [
        {
          "output_type": "stream",
          "name": "stdout",
          "text": [
            "Epoch[1/10], Step[1000/3753], Loss: 0.3810\n",
            "Epoch[1/10], Step[2000/3753], Loss: 0.4314\n",
            "Epoch[1/10], Step[3000/3753], Loss: 0.1272\n",
            "Epoch[2/10], Step[1000/3753], Loss: 0.0909\n",
            "Epoch[2/10], Step[2000/3753], Loss: 0.0952\n",
            "Epoch[2/10], Step[3000/3753], Loss: 0.0465\n",
            "Epoch[3/10], Step[1000/3753], Loss: 0.0942\n",
            "Epoch[3/10], Step[2000/3753], Loss: 0.0759\n",
            "Epoch[3/10], Step[3000/3753], Loss: 0.0489\n",
            "Epoch[4/10], Step[1000/3753], Loss: 0.0532\n",
            "Epoch[4/10], Step[2000/3753], Loss: 0.1597\n",
            "Epoch[4/10], Step[3000/3753], Loss: 0.0222\n",
            "Epoch[5/10], Step[1000/3753], Loss: 0.0320\n",
            "Epoch[5/10], Step[2000/3753], Loss: 0.0571\n",
            "Epoch[5/10], Step[3000/3753], Loss: 0.0223\n",
            "Epoch[6/10], Step[1000/3753], Loss: 0.0084\n",
            "Epoch[6/10], Step[2000/3753], Loss: 0.0163\n",
            "Epoch[6/10], Step[3000/3753], Loss: 0.0224\n",
            "Epoch[7/10], Step[1000/3753], Loss: 0.0286\n",
            "Epoch[7/10], Step[2000/3753], Loss: 0.0100\n",
            "Epoch[7/10], Step[3000/3753], Loss: 0.0088\n",
            "Epoch[8/10], Step[1000/3753], Loss: 0.0010\n",
            "Epoch[8/10], Step[2000/3753], Loss: 0.0003\n",
            "Epoch[8/10], Step[3000/3753], Loss: 0.0279\n",
            "Epoch[9/10], Step[1000/3753], Loss: 0.0634\n",
            "Epoch[9/10], Step[2000/3753], Loss: 0.0920\n",
            "Epoch[9/10], Step[3000/3753], Loss: 0.0604\n",
            "Epoch[10/10], Step[1000/3753], Loss: 0.0343\n",
            "Epoch[10/10], Step[2000/3753], Loss: 0.0009\n",
            "Epoch[10/10], Step[3000/3753], Loss: 0.0030\n"
          ]
        }
      ]
    },
    {
      "cell_type": "markdown",
      "source": [
        "### Evaluation"
      ],
      "metadata": {
        "id": "ZhoaJ4X2NNa4"
      }
    },
    {
      "cell_type": "code",
      "source": [
        "from sklearn.metrics import (classification_report, accuracy_score,\n",
        "                             recall_score, precision_score, f1_score,\n",
        "                             confusion_matrix)"
      ],
      "metadata": {
        "id": "odgOVN1tSehm"
      },
      "execution_count": null,
      "outputs": []
    },
    {
      "cell_type": "markdown",
      "source": [
        "#### Evaluation 1"
      ],
      "metadata": {
        "id": "L3_F_PgyVKOa"
      }
    },
    {
      "cell_type": "code",
      "source": [
        "# model.eval()\n",
        "# with torch.no_grad():\n",
        "#     test_inputs = torch.Tensor(testx_scaled).unsqueeze(1).to(device)\n",
        "#     test_labels = torch.Tensor(testy.values).to(device).long()\n",
        "#     test_outputs = model(test_inputs)\n",
        "#     _, predicted = torch.max(test_outputs, 1)\n",
        "\n",
        "# accuracy = accuracy_score(test_labels.cpu().numpy(), predicted.cpu().numpy())\n",
        "# print(f'Test Accuracy: {accuracy * 100:.2f}%')  # Test Accuracy: 99.56%"
      ],
      "metadata": {
        "id": "QisGcY-IIDcL"
      },
      "execution_count": null,
      "outputs": []
    },
    {
      "cell_type": "markdown",
      "source": [
        "#### Evaluation 2"
      ],
      "metadata": {
        "id": "dh_P1QRAVc_g"
      }
    },
    {
      "cell_type": "code",
      "source": [
        "# model.eval()\n",
        "# with torch.no_grad():\n",
        "#     test_inputs = torch.Tensor(testx_scaled).unsqueeze(1).to(device)\n",
        "#     test_labels = torch.Tensor(testy.values).to(device).long()\n",
        "#     test_outputs = model(test_inputs)\n",
        "#     _, predicted = torch.max(test_outputs, 1)\n",
        "\n",
        "# accuracy = accuracy_score(test_labels.cpu().numpy(), predicted.cpu().numpy())\n",
        "# print(f'Test Accuracy: {accuracy * 100:.2f}%')  # Test Accuracy: 99.33%"
      ],
      "metadata": {
        "id": "15vIQS3oVYfo"
      },
      "execution_count": null,
      "outputs": []
    },
    {
      "cell_type": "markdown",
      "source": [
        "#### Evaluation 3"
      ],
      "metadata": {
        "id": "IbFqGK19Vnto"
      }
    },
    {
      "cell_type": "code",
      "source": [
        "model.eval()\n",
        "with torch.no_grad():\n",
        "    test_inputs = torch.Tensor(testx_scaled).unsqueeze(1).to(device)\n",
        "    test_labels = torch.Tensor(testy.values).to(device).long()\n",
        "    test_outputs = model(test_inputs)\n",
        "    _, predicted = torch.max(test_outputs, 1)\n",
        "\n",
        "accuracy = accuracy_score(test_labels.cpu().numpy(), predicted.cpu().numpy())\n",
        "print(f'Test Accuracy: {accuracy * 100:.2f}%')  # Test Accuracy: 99.24%"
      ],
      "metadata": {
        "colab": {
          "base_uri": "https://localhost:8080/"
        },
        "id": "8qjshgHoVmhC",
        "outputId": "2ebe5239-0f71-44dc-83d6-ab9dc43ea6f0"
      },
      "execution_count": null,
      "outputs": [
        {
          "output_type": "stream",
          "name": "stdout",
          "text": [
            "Test Accuracy: 99.24%\n"
          ]
        }
      ]
    },
    {
      "cell_type": "markdown",
      "source": [
        "### Training and Evaluation"
      ],
      "metadata": {
        "id": "6yAsRkKGBKRs"
      }
    },
    {
      "cell_type": "code",
      "source": [
        "import numpy as np\n",
        "\n",
        "# Initialize a list to store accuracy values\n",
        "epoch_accuracies = []\n",
        "\n",
        "for epoch in range(num_epochs):\n",
        "    for inputs, labels in train_loader:\n",
        "        inputs = inputs.reshape(inputs.size()[0], sequence_length, input_size).to(device)\n",
        "        labels = labels.view(-1).long().to(device)\n",
        "\n",
        "        optimizer.zero_grad()\n",
        "        outputs = model(inputs)\n",
        "        loss = criterion(outputs, labels)\n",
        "        loss.backward()\n",
        "        optimizer.step()\n",
        "\n",
        "    # Evaluate the model after each epoch\n",
        "    model.eval()\n",
        "    with torch.no_grad():\n",
        "        test_inputs = torch.Tensor(testx_scaled).unsqueeze(1).to(device)\n",
        "        test_labels = torch.Tensor(testy.values).to(device).long()\n",
        "        test_outputs = model(test_inputs)\n",
        "        _, predicted = torch.max(test_outputs, 1)\n",
        "\n",
        "        accuracy = accuracy_score(test_labels.cpu().numpy(), predicted.cpu().numpy())\n",
        "        epoch_accuracies.append(accuracy)\n",
        "\n",
        "    model.train()  # Set the model back to training mode\n",
        "\n",
        "    print(f'Epoch [{epoch+1}/{num_epochs}] - Test Accuracy: {accuracy * 100:.2f}%')\n",
        "\n",
        "# Print the accuracy values after each epoch\n",
        "print(\"Epoch Accuracies:\", epoch_accuracies)"
      ],
      "metadata": {
        "colab": {
          "base_uri": "https://localhost:8080/"
        },
        "id": "Sm9K3e-2BJil",
        "outputId": "e411f953-c6ef-4669-9de6-8d13501bec88"
      },
      "execution_count": null,
      "outputs": [
        {
          "output_type": "stream",
          "name": "stdout",
          "text": [
            "Epoch [1/10] - Test Accuracy: 99.58%\n",
            "Epoch [2/10] - Test Accuracy: 99.66%\n",
            "Epoch [3/10] - Test Accuracy: 99.58%\n",
            "Epoch [4/10] - Test Accuracy: 99.64%\n",
            "Epoch [5/10] - Test Accuracy: 99.61%\n",
            "Epoch [6/10] - Test Accuracy: 99.62%\n",
            "Epoch [7/10] - Test Accuracy: 99.65%\n",
            "Epoch [8/10] - Test Accuracy: 99.63%\n",
            "Epoch [9/10] - Test Accuracy: 99.63%\n",
            "Epoch [10/10] - Test Accuracy: 99.65%\n",
            "Epoch Accuracies: [0.9957675244872006, 0.9965926630619436, 0.9958451845883529, 0.996437342859639, 0.9961364099676739, 0.9962043625561823, 0.9964761729102152, 0.9962723151446905, 0.9962917301699785, 0.9965441254987235]\n"
          ]
        }
      ]
    },
    {
      "cell_type": "markdown",
      "source": [
        "### Visualization"
      ],
      "metadata": {
        "id": "9sJoDBMSNji9"
      }
    },
    {
      "cell_type": "code",
      "source": [
        "import matplotlib.pyplot as plt\n",
        "\n",
        "# Your code for training and storing accuracies here\n",
        "\n",
        "# Plot the accuracies\n",
        "plt.figure(figsize=(8, 6))\n",
        "plt.plot(range(1, num_epochs + 1), epoch_accuracies, marker='o', linestyle='-', color='b')\n",
        "plt.title('Accuracy vs. Epochs', fontsize=18)\n",
        "# plt.xlabel('Epochs')\n",
        "# plt.ylabel('Accuracy')\n",
        "plt.grid(True)\n",
        "plt.xticks(np.arange(1, num_epochs + 1))\n",
        "plt.show()"
      ],
      "metadata": {
        "colab": {
          "base_uri": "https://localhost:8080/"
        },
        "id": "6bssKCA-EPc_",
        "outputId": "dd5612e4-e42a-41b3-a3b3-55f3db7de4ff"
      },
      "execution_count": null,
      "outputs": [
        {
          "output_type": "display_data",
          "data": {
            "text/plain": [
              "<Figure size 800x600 with 1 Axes>"
            ],
            "image/png": "[encoded data removed]"
          },
          "metadata": {}
        }
      ]
    },
    {
      "cell_type": "code",
      "source": [],
      "metadata": {
        "id": "tRdJTM2UFs0p"
      },
      "execution_count": null,
      "outputs": []
    }
  ]
}